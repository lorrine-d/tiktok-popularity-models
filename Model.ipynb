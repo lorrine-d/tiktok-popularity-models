{
 "cells": [
  {
   "cell_type": "code",
   "execution_count": 1,
   "metadata": {},
   "outputs": [],
   "source": [
    "import numpy as np # linear algebra\n",
    "import pandas as pd # data processing, CSV file I/O (e.g. pd.read_csv)\n",
    "import os\n",
    "\n",
    "import matplotlib.pyplot as plt\n",
    "import seaborn as sns\n",
    "from sklearn.feature_selection import mutual_info_regression\n",
    "from sklearn.model_selection import train_test_split, cross_validate\n",
    "from sklearn.metrics import mean_absolute_error, r2_score\n",
    "from sklearn.preprocessing import OneHotEncoder\n",
    "\n",
    "from sklearn.linear_model import LinearRegression\n",
    "from xgboost import XGBRegressor\n",
    "from sklearn.neighbors import KNeighborsRegressor\n",
    "from catboost import CatBoostRegressor"
   ]
  },
  {
   "cell_type": "code",
   "execution_count": 2,
   "metadata": {},
   "outputs": [],
   "source": [
    "df = pd.read_csv(\"./TikTok_songs_2022.csv\")"
   ]
  },
  {
   "cell_type": "code",
   "execution_count": 3,
   "metadata": {},
   "outputs": [],
   "source": [
    "df.loc[df[\"track_pop\"] == 0,'track_pop'] = df['track_pop'].mean() "
   ]
  },
  {
   "cell_type": "code",
   "execution_count": 4,
   "metadata": {},
   "outputs": [],
   "source": [
    "from sklearn.model_selection import train_test_split\n",
    "\n",
    "X = df[['liveness', 'speechiness', 'key', 'loudness', 'artist_pop']].values\n",
    "y = df['track_pop'].values\n",
    "\n",
    "SEED = 15"
   ]
  },
  {
   "cell_type": "markdown",
   "metadata": {},
   "source": [
    "### Split training and testing set"
   ]
  },
  {
   "cell_type": "code",
   "execution_count": 11,
   "metadata": {},
   "outputs": [],
   "source": [
    "X_train, X_test, y_train, y_test = train_test_split(X, y, random_state=SEED, test_size=0.2, \n",
    "                                                    shuffle = True)"
   ]
  },
  {
   "cell_type": "markdown",
   "metadata": {},
   "source": [
    "standard for SVR"
   ]
  },
  {
   "cell_type": "code",
   "execution_count": 27,
   "metadata": {},
   "outputs": [],
   "source": [
    "from sklearn.preprocessing import StandardScaler\n",
    "from sklearn.metrics import mean_squared_error as MSE\n",
    "\n",
    "ss = StandardScaler()\n",
    "\n",
    "ss.fit(X)\n",
    "\n",
    "X_train_scaled = ss.transform(X_train)\n",
    "X_test_scaled = ss.transform(X_test)"
   ]
  },
  {
   "cell_type": "markdown",
   "metadata": {},
   "source": [
    "### 1. Linear Regression"
   ]
  },
  {
   "cell_type": "code",
   "execution_count": 31,
   "metadata": {},
   "outputs": [
    {
     "name": "stdout",
     "output_type": "stream",
     "text": [
      "CPU times: user 3.91 ms, sys: 1.28 ms, total: 5.19 ms\n",
      "Wall time: 2.96 ms\n",
      "Using Linear Regression, MAE is 9.14\n",
      "Using Linear Regression, RMSE is 14.09\n"
     ]
    }
   ],
   "source": [
    "#Linear Regression\n",
    "\n",
    "from sklearn.linear_model import LinearRegression\n",
    "from sklearn.metrics import mean_squared_error, mean_absolute_error, median_absolute_error\n",
    "\n",
    "lr = LinearRegression()\n",
    "%time lr.fit(X_train, y_train)\n",
    "\n",
    "predictions = lr.predict(X_test)\n",
    "mae = np.mean(abs(predictions - y_test))#compare with true res\n",
    "rmse = np.sqrt(np.mean((predictions - y_test) ** 2))\n",
    "print('Using Linear Regression, MAE is %0.2f' %  mae)  \n",
    "print('Using Linear Regression, RMSE is %0.2f' %  rmse)"
   ]
  },
  {
   "cell_type": "markdown",
   "metadata": {},
   "source": [
    "### 2. SVR model"
   ]
  },
  {
   "cell_type": "code",
   "execution_count": 14,
   "metadata": {},
   "outputs": [
    {
     "name": "stdout",
     "output_type": "stream",
     "text": [
      "CPU times: user 542 ms, sys: 5.43 ms, total: 548 ms\n",
      "Wall time: 553 ms\n",
      "CPU times: user 9.37 ms, sys: 176 µs, total: 9.55 ms\n",
      "Wall time: 9.18 ms\n",
      "Using SVR_linear, MAE is 9.46\n",
      "Using SVR_linear, RMSE is 14.82\n",
      "Using SVR_rbf, MAE is 12.00\n",
      "Using SVR_rbf, RMSE is 14.82\n"
     ]
    }
   ],
   "source": [
    "#SVR\n",
    "\n",
    "from sklearn.svm import SVR\n",
    "\n",
    "#linear\n",
    "svr_lin = SVR(kernel='linear', C=100, gamma='auto')\n",
    "%time svr_lin.fit(X_train, y_train)\n",
    "\n",
    "#rbf\n",
    "svr_rbf = SVR(kernel='rbf', C=100, gamma=0.1, epsilon=.1)\n",
    "%time svr_rbf.fit(X_train,y_train)\n",
    "\n",
    "y_lin = svr_lin.predict(X_test)\n",
    "mae_svr1 = np.mean(abs(y_lin - y_test))#compare with true res\n",
    "rmse_svr1 = np.sqrt(np.mean((y_lin - y_test) ** 2))\n",
    "print('Using SVR_linear, MAE is %0.2f' %  mae_svr1)  \n",
    "print('Using SVR_linear, RMSE is %0.2f' %  rmse_svr1)\n",
    "\n",
    "y_rbf = svr_rbf.predict(X_test)\n",
    "mae_svr2 = np.mean(abs(y_rbf - y_test))\n",
    "rmse_svr2 = np.sqrt(np.mean((y_lin - y_test) ** 2))\n",
    "print('Using SVR_rbf, MAE is %0.2f' %  mae_svr2)  \n",
    "print('Using SVR_rbf, RMSE is %0.2f' %  rmse_svr2)"
   ]
  },
  {
   "cell_type": "markdown",
   "metadata": {},
   "source": [
    "### 3. SVR with GridSearch(using standard dataset)"
   ]
  },
  {
   "cell_type": "code",
   "execution_count": 15,
   "metadata": {},
   "outputs": [
    {
     "name": "stdout",
     "output_type": "stream",
     "text": [
      "Fitting 4 folds for each of 12 candidates, totalling 48 fits\n"
     ]
    },
    {
     "name": "stderr",
     "output_type": "stream",
     "text": [
      "[Parallel(n_jobs=-1)]: Using backend LokyBackend with 8 concurrent workers.\n"
     ]
    },
    {
     "name": "stdout",
     "output_type": "stream",
     "text": [
      "CPU times: user 2.57 ms, sys: 46 µs, total: 2.62 ms\n",
      "Wall time: 2.62 ms\n",
      "Using SVR_rGrid, MAE is 9.41\n",
      "Using SVR_Grid, RMSE is 14.78\n"
     ]
    },
    {
     "name": "stderr",
     "output_type": "stream",
     "text": [
      "[Parallel(n_jobs=-1)]: Done  48 out of  48 | elapsed:    1.5s finished\n"
     ]
    }
   ],
   "source": [
    "#SVR with GridSearchCV\n",
    "\n",
    "from sklearn.model_selection import GridSearchCV\n",
    "\n",
    "param_grid = {\n",
    "            'C': [100, 10], \n",
    "            'gamma': [0.1, 0.01],\n",
    "            'kernel': ['rbf', 'poly', 'sigmoid']\n",
    "            }\n",
    "\n",
    "svr = SVR()\n",
    "\n",
    "svr_gs = GridSearchCV(\n",
    "    svr, param_grid,\n",
    "    cv=4, n_jobs=-1, verbose=1, scoring=\"neg_mean_absolute_error\"\n",
    ")\n",
    "\n",
    "svr_gs.fit(X_train_scaled, y_train)\n",
    "\n",
    "best_svr_est = svr_gs.best_estimator_\n",
    "%time best_svr_est.fit(X_train_scaled, y_train)\n",
    "\n",
    "y_pred_train = best_svr_est.predict(X_train_scaled)\n",
    "y_pred_test = best_svr_est.predict(X_test_scaled)\n",
    "\n",
    "mae_svrg = np.mean(abs(y_pred_test - y_test))\n",
    "rmse_svrg = np.sqrt(np.mean((y_pred_test - y_test) ** 2))\n",
    "print('Using SVR_rGrid, MAE is %0.2f' % mae_svrg)  \n",
    "print('Using SVR_Grid, RMSE is %0.2f'% rmse_svrg)\n"
   ]
  },
  {
   "cell_type": "markdown",
   "metadata": {},
   "source": [
    "### 4. Ensemble learnign"
   ]
  },
  {
   "cell_type": "code",
   "execution_count": 16,
   "metadata": {},
   "outputs": [],
   "source": [
    "from sklearn.model_selection import RandomizedSearchCV\n",
    "from sklearn.ensemble import RandomForestRegressor\n",
    "from sklearn.ensemble import GradientBoostingRegressor\n",
    "from sklearn.model_selection import GridSearchCV\n",
    "\n",
    "#random forest\n",
    "\n",
    "forest_reg = RandomForestRegressor()\n",
    "\n",
    "random_grid = {'bootstrap': [True, False],\n",
    "               'max_depth': [10, 20, 30, 40, 50, 60, 70, 80, 90, 100, 110, None],\n",
    "               'min_samples_leaf': [2, 4, 8],\n",
    "               'min_samples_split': [2, 5, 10],\n",
    "               'n_estimators': [60, 120, 240]}\n",
    "\n",
    "\n",
    "rf_random = RandomizedSearchCV(estimator = forest_reg, \n",
    "                               param_distributions = random_grid, \n",
    "                               scoring=\"neg_mean_absolute_error\",\n",
    "                               n_iter = 50, \n",
    "                               cv = 3, \n",
    "                               verbose=2, \n",
    "                               random_state=42)"
   ]
  },
  {
   "cell_type": "code",
   "execution_count": 19,
   "metadata": {},
   "outputs": [
    {
     "name": "stdout",
     "output_type": "stream",
     "text": [
      "Fitting 3 folds for each of 50 candidates, totalling 150 fits\n",
      "[CV] n_estimators=240, min_samples_split=5, min_samples_leaf=4, max_depth=None, bootstrap=False \n"
     ]
    },
    {
     "name": "stderr",
     "output_type": "stream",
     "text": [
      "[Parallel(n_jobs=1)]: Using backend SequentialBackend with 1 concurrent workers.\n"
     ]
    },
    {
     "name": "stdout",
     "output_type": "stream",
     "text": [
      "[CV]  n_estimators=240, min_samples_split=5, min_samples_leaf=4, max_depth=None, bootstrap=False, total=   0.2s\n",
      "[CV] n_estimators=240, min_samples_split=5, min_samples_leaf=4, max_depth=None, bootstrap=False \n",
      "[CV]  n_estimators=240, min_samples_split=5, min_samples_leaf=4, max_depth=None, bootstrap=False, total=   0.2s\n",
      "[CV] n_estimators=240, min_samples_split=5, min_samples_leaf=4, max_depth=None, bootstrap=False \n"
     ]
    },
    {
     "name": "stderr",
     "output_type": "stream",
     "text": [
      "[Parallel(n_jobs=1)]: Done   1 out of   1 | elapsed:    0.2s remaining:    0.0s\n"
     ]
    },
    {
     "name": "stdout",
     "output_type": "stream",
     "text": [
      "[CV]  n_estimators=240, min_samples_split=5, min_samples_leaf=4, max_depth=None, bootstrap=False, total=   0.2s\n",
      "[CV] n_estimators=120, min_samples_split=5, min_samples_leaf=2, max_depth=90, bootstrap=True \n",
      "[CV]  n_estimators=120, min_samples_split=5, min_samples_leaf=2, max_depth=90, bootstrap=True, total=   0.1s\n",
      "[CV] n_estimators=120, min_samples_split=5, min_samples_leaf=2, max_depth=90, bootstrap=True \n",
      "[CV]  n_estimators=120, min_samples_split=5, min_samples_leaf=2, max_depth=90, bootstrap=True, total=   0.1s\n",
      "[CV] n_estimators=120, min_samples_split=5, min_samples_leaf=2, max_depth=90, bootstrap=True \n",
      "[CV]  n_estimators=120, min_samples_split=5, min_samples_leaf=2, max_depth=90, bootstrap=True, total=   0.1s\n",
      "[CV] n_estimators=240, min_samples_split=10, min_samples_leaf=8, max_depth=100, bootstrap=False \n",
      "[CV]  n_estimators=240, min_samples_split=10, min_samples_leaf=8, max_depth=100, bootstrap=False, total=   0.2s\n",
      "[CV] n_estimators=240, min_samples_split=10, min_samples_leaf=8, max_depth=100, bootstrap=False \n",
      "[CV]  n_estimators=240, min_samples_split=10, min_samples_leaf=8, max_depth=100, bootstrap=False, total=   0.2s\n",
      "[CV] n_estimators=240, min_samples_split=10, min_samples_leaf=8, max_depth=100, bootstrap=False \n",
      "[CV]  n_estimators=240, min_samples_split=10, min_samples_leaf=8, max_depth=100, bootstrap=False, total=   0.2s\n",
      "[CV] n_estimators=60, min_samples_split=10, min_samples_leaf=8, max_depth=40, bootstrap=False \n",
      "[CV]  n_estimators=60, min_samples_split=10, min_samples_leaf=8, max_depth=40, bootstrap=False, total=   0.1s\n",
      "[CV] n_estimators=60, min_samples_split=10, min_samples_leaf=8, max_depth=40, bootstrap=False \n",
      "[CV]  n_estimators=60, min_samples_split=10, min_samples_leaf=8, max_depth=40, bootstrap=False, total=   0.0s\n",
      "[CV] n_estimators=60, min_samples_split=10, min_samples_leaf=8, max_depth=40, bootstrap=False \n",
      "[CV]  n_estimators=60, min_samples_split=10, min_samples_leaf=8, max_depth=40, bootstrap=False, total=   0.0s\n",
      "[CV] n_estimators=60, min_samples_split=2, min_samples_leaf=8, max_depth=30, bootstrap=True \n",
      "[CV]  n_estimators=60, min_samples_split=2, min_samples_leaf=8, max_depth=30, bootstrap=True, total=   0.1s\n",
      "[CV] n_estimators=60, min_samples_split=2, min_samples_leaf=8, max_depth=30, bootstrap=True \n",
      "[CV]  n_estimators=60, min_samples_split=2, min_samples_leaf=8, max_depth=30, bootstrap=True, total=   0.1s\n",
      "[CV] n_estimators=60, min_samples_split=2, min_samples_leaf=8, max_depth=30, bootstrap=True \n",
      "[CV]  n_estimators=60, min_samples_split=2, min_samples_leaf=8, max_depth=30, bootstrap=True, total=   0.1s\n",
      "[CV] n_estimators=120, min_samples_split=10, min_samples_leaf=4, max_depth=50, bootstrap=False \n",
      "[CV]  n_estimators=120, min_samples_split=10, min_samples_leaf=4, max_depth=50, bootstrap=False, total=   0.1s\n",
      "[CV] n_estimators=120, min_samples_split=10, min_samples_leaf=4, max_depth=50, bootstrap=False \n",
      "[CV]  n_estimators=120, min_samples_split=10, min_samples_leaf=4, max_depth=50, bootstrap=False, total=   0.1s\n",
      "[CV] n_estimators=120, min_samples_split=10, min_samples_leaf=4, max_depth=50, bootstrap=False \n",
      "[CV]  n_estimators=120, min_samples_split=10, min_samples_leaf=4, max_depth=50, bootstrap=False, total=   0.1s\n",
      "[CV] n_estimators=120, min_samples_split=2, min_samples_leaf=8, max_depth=70, bootstrap=True \n",
      "[CV]  n_estimators=120, min_samples_split=2, min_samples_leaf=8, max_depth=70, bootstrap=True, total=   0.1s\n",
      "[CV] n_estimators=120, min_samples_split=2, min_samples_leaf=8, max_depth=70, bootstrap=True \n",
      "[CV]  n_estimators=120, min_samples_split=2, min_samples_leaf=8, max_depth=70, bootstrap=True, total=   0.1s\n",
      "[CV] n_estimators=120, min_samples_split=2, min_samples_leaf=8, max_depth=70, bootstrap=True \n",
      "[CV]  n_estimators=120, min_samples_split=2, min_samples_leaf=8, max_depth=70, bootstrap=True, total=   0.1s\n",
      "[CV] n_estimators=240, min_samples_split=5, min_samples_leaf=8, max_depth=50, bootstrap=True \n",
      "[CV]  n_estimators=240, min_samples_split=5, min_samples_leaf=8, max_depth=50, bootstrap=True, total=   0.2s\n",
      "[CV] n_estimators=240, min_samples_split=5, min_samples_leaf=8, max_depth=50, bootstrap=True \n",
      "[CV]  n_estimators=240, min_samples_split=5, min_samples_leaf=8, max_depth=50, bootstrap=True, total=   0.2s\n",
      "[CV] n_estimators=240, min_samples_split=5, min_samples_leaf=8, max_depth=50, bootstrap=True \n",
      "[CV]  n_estimators=240, min_samples_split=5, min_samples_leaf=8, max_depth=50, bootstrap=True, total=   0.2s\n",
      "[CV] n_estimators=60, min_samples_split=10, min_samples_leaf=4, max_depth=90, bootstrap=True \n",
      "[CV]  n_estimators=60, min_samples_split=10, min_samples_leaf=4, max_depth=90, bootstrap=True, total=   0.1s\n",
      "[CV] n_estimators=60, min_samples_split=10, min_samples_leaf=4, max_depth=90, bootstrap=True \n",
      "[CV]  n_estimators=60, min_samples_split=10, min_samples_leaf=4, max_depth=90, bootstrap=True, total=   0.1s\n",
      "[CV] n_estimators=60, min_samples_split=10, min_samples_leaf=4, max_depth=90, bootstrap=True \n",
      "[CV]  n_estimators=60, min_samples_split=10, min_samples_leaf=4, max_depth=90, bootstrap=True, total=   0.1s\n",
      "[CV] n_estimators=120, min_samples_split=10, min_samples_leaf=2, max_depth=110, bootstrap=True \n",
      "[CV]  n_estimators=120, min_samples_split=10, min_samples_leaf=2, max_depth=110, bootstrap=True, total=   0.1s\n",
      "[CV] n_estimators=120, min_samples_split=10, min_samples_leaf=2, max_depth=110, bootstrap=True \n",
      "[CV]  n_estimators=120, min_samples_split=10, min_samples_leaf=2, max_depth=110, bootstrap=True, total=   0.1s\n",
      "[CV] n_estimators=120, min_samples_split=10, min_samples_leaf=2, max_depth=110, bootstrap=True \n",
      "[CV]  n_estimators=120, min_samples_split=10, min_samples_leaf=2, max_depth=110, bootstrap=True, total=   0.1s\n",
      "[CV] n_estimators=240, min_samples_split=2, min_samples_leaf=4, max_depth=110, bootstrap=False \n",
      "[CV]  n_estimators=240, min_samples_split=2, min_samples_leaf=4, max_depth=110, bootstrap=False, total=   0.2s\n",
      "[CV] n_estimators=240, min_samples_split=2, min_samples_leaf=4, max_depth=110, bootstrap=False \n",
      "[CV]  n_estimators=240, min_samples_split=2, min_samples_leaf=4, max_depth=110, bootstrap=False, total=   0.2s\n",
      "[CV] n_estimators=240, min_samples_split=2, min_samples_leaf=4, max_depth=110, bootstrap=False \n",
      "[CV]  n_estimators=240, min_samples_split=2, min_samples_leaf=4, max_depth=110, bootstrap=False, total=   0.2s\n",
      "[CV] n_estimators=240, min_samples_split=2, min_samples_leaf=4, max_depth=110, bootstrap=True \n",
      "[CV]  n_estimators=240, min_samples_split=2, min_samples_leaf=4, max_depth=110, bootstrap=True, total=   0.3s\n",
      "[CV] n_estimators=240, min_samples_split=2, min_samples_leaf=4, max_depth=110, bootstrap=True \n",
      "[CV]  n_estimators=240, min_samples_split=2, min_samples_leaf=4, max_depth=110, bootstrap=True, total=   0.3s\n",
      "[CV] n_estimators=240, min_samples_split=2, min_samples_leaf=4, max_depth=110, bootstrap=True \n",
      "[CV]  n_estimators=240, min_samples_split=2, min_samples_leaf=4, max_depth=110, bootstrap=True, total=   0.3s\n",
      "[CV] n_estimators=60, min_samples_split=10, min_samples_leaf=2, max_depth=100, bootstrap=True \n",
      "[CV]  n_estimators=60, min_samples_split=10, min_samples_leaf=2, max_depth=100, bootstrap=True, total=   0.1s\n",
      "[CV] n_estimators=60, min_samples_split=10, min_samples_leaf=2, max_depth=100, bootstrap=True \n",
      "[CV]  n_estimators=60, min_samples_split=10, min_samples_leaf=2, max_depth=100, bootstrap=True, total=   0.1s\n",
      "[CV] n_estimators=60, min_samples_split=10, min_samples_leaf=2, max_depth=100, bootstrap=True \n",
      "[CV]  n_estimators=60, min_samples_split=10, min_samples_leaf=2, max_depth=100, bootstrap=True, total=   0.1s\n",
      "[CV] n_estimators=60, min_samples_split=2, min_samples_leaf=2, max_depth=40, bootstrap=True \n",
      "[CV]  n_estimators=60, min_samples_split=2, min_samples_leaf=2, max_depth=40, bootstrap=True, total=   0.1s\n",
      "[CV] n_estimators=60, min_samples_split=2, min_samples_leaf=2, max_depth=40, bootstrap=True \n",
      "[CV]  n_estimators=60, min_samples_split=2, min_samples_leaf=2, max_depth=40, bootstrap=True, total=   0.1s\n",
      "[CV] n_estimators=60, min_samples_split=2, min_samples_leaf=2, max_depth=40, bootstrap=True \n",
      "[CV]  n_estimators=60, min_samples_split=2, min_samples_leaf=2, max_depth=40, bootstrap=True, total=   0.1s\n",
      "[CV] n_estimators=120, min_samples_split=5, min_samples_leaf=2, max_depth=60, bootstrap=False \n",
      "[CV]  n_estimators=120, min_samples_split=5, min_samples_leaf=2, max_depth=60, bootstrap=False, total=   0.1s\n",
      "[CV] n_estimators=120, min_samples_split=5, min_samples_leaf=2, max_depth=60, bootstrap=False \n",
      "[CV]  n_estimators=120, min_samples_split=5, min_samples_leaf=2, max_depth=60, bootstrap=False, total=   0.1s\n",
      "[CV] n_estimators=120, min_samples_split=5, min_samples_leaf=2, max_depth=60, bootstrap=False \n"
     ]
    },
    {
     "name": "stdout",
     "output_type": "stream",
     "text": [
      "[CV]  n_estimators=120, min_samples_split=5, min_samples_leaf=2, max_depth=60, bootstrap=False, total=   0.1s\n",
      "[CV] n_estimators=120, min_samples_split=5, min_samples_leaf=2, max_depth=100, bootstrap=True \n",
      "[CV]  n_estimators=120, min_samples_split=5, min_samples_leaf=2, max_depth=100, bootstrap=True, total=   0.1s\n",
      "[CV] n_estimators=120, min_samples_split=5, min_samples_leaf=2, max_depth=100, bootstrap=True \n",
      "[CV]  n_estimators=120, min_samples_split=5, min_samples_leaf=2, max_depth=100, bootstrap=True, total=   0.1s\n",
      "[CV] n_estimators=120, min_samples_split=5, min_samples_leaf=2, max_depth=100, bootstrap=True \n",
      "[CV]  n_estimators=120, min_samples_split=5, min_samples_leaf=2, max_depth=100, bootstrap=True, total=   0.1s\n",
      "[CV] n_estimators=240, min_samples_split=2, min_samples_leaf=4, max_depth=20, bootstrap=False \n",
      "[CV]  n_estimators=240, min_samples_split=2, min_samples_leaf=4, max_depth=20, bootstrap=False, total=   0.2s\n",
      "[CV] n_estimators=240, min_samples_split=2, min_samples_leaf=4, max_depth=20, bootstrap=False \n",
      "[CV]  n_estimators=240, min_samples_split=2, min_samples_leaf=4, max_depth=20, bootstrap=False, total=   0.2s\n",
      "[CV] n_estimators=240, min_samples_split=2, min_samples_leaf=4, max_depth=20, bootstrap=False \n",
      "[CV]  n_estimators=240, min_samples_split=2, min_samples_leaf=4, max_depth=20, bootstrap=False, total=   0.2s\n",
      "[CV] n_estimators=120, min_samples_split=5, min_samples_leaf=2, max_depth=110, bootstrap=False \n",
      "[CV]  n_estimators=120, min_samples_split=5, min_samples_leaf=2, max_depth=110, bootstrap=False, total=   0.1s\n",
      "[CV] n_estimators=120, min_samples_split=5, min_samples_leaf=2, max_depth=110, bootstrap=False \n",
      "[CV]  n_estimators=120, min_samples_split=5, min_samples_leaf=2, max_depth=110, bootstrap=False, total=   0.1s\n",
      "[CV] n_estimators=120, min_samples_split=5, min_samples_leaf=2, max_depth=110, bootstrap=False \n",
      "[CV]  n_estimators=120, min_samples_split=5, min_samples_leaf=2, max_depth=110, bootstrap=False, total=   0.1s\n",
      "[CV] n_estimators=60, min_samples_split=10, min_samples_leaf=4, max_depth=30, bootstrap=True \n",
      "[CV]  n_estimators=60, min_samples_split=10, min_samples_leaf=4, max_depth=30, bootstrap=True, total=   0.1s\n",
      "[CV] n_estimators=60, min_samples_split=10, min_samples_leaf=4, max_depth=30, bootstrap=True \n",
      "[CV]  n_estimators=60, min_samples_split=10, min_samples_leaf=4, max_depth=30, bootstrap=True, total=   0.1s\n",
      "[CV] n_estimators=60, min_samples_split=10, min_samples_leaf=4, max_depth=30, bootstrap=True \n",
      "[CV]  n_estimators=60, min_samples_split=10, min_samples_leaf=4, max_depth=30, bootstrap=True, total=   0.1s\n",
      "[CV] n_estimators=120, min_samples_split=2, min_samples_leaf=4, max_depth=10, bootstrap=True \n",
      "[CV]  n_estimators=120, min_samples_split=2, min_samples_leaf=4, max_depth=10, bootstrap=True, total=   0.1s\n",
      "[CV] n_estimators=120, min_samples_split=2, min_samples_leaf=4, max_depth=10, bootstrap=True \n",
      "[CV]  n_estimators=120, min_samples_split=2, min_samples_leaf=4, max_depth=10, bootstrap=True, total=   0.1s\n",
      "[CV] n_estimators=120, min_samples_split=2, min_samples_leaf=4, max_depth=10, bootstrap=True \n",
      "[CV]  n_estimators=120, min_samples_split=2, min_samples_leaf=4, max_depth=10, bootstrap=True, total=   0.1s\n",
      "[CV] n_estimators=120, min_samples_split=10, min_samples_leaf=4, max_depth=10, bootstrap=False \n",
      "[CV]  n_estimators=120, min_samples_split=10, min_samples_leaf=4, max_depth=10, bootstrap=False, total=   0.1s\n",
      "[CV] n_estimators=120, min_samples_split=10, min_samples_leaf=4, max_depth=10, bootstrap=False \n",
      "[CV]  n_estimators=120, min_samples_split=10, min_samples_leaf=4, max_depth=10, bootstrap=False, total=   0.1s\n",
      "[CV] n_estimators=120, min_samples_split=10, min_samples_leaf=4, max_depth=10, bootstrap=False \n",
      "[CV]  n_estimators=120, min_samples_split=10, min_samples_leaf=4, max_depth=10, bootstrap=False, total=   0.1s\n",
      "[CV] n_estimators=60, min_samples_split=2, min_samples_leaf=4, max_depth=30, bootstrap=True \n",
      "[CV]  n_estimators=60, min_samples_split=2, min_samples_leaf=4, max_depth=30, bootstrap=True, total=   0.1s\n",
      "[CV] n_estimators=60, min_samples_split=2, min_samples_leaf=4, max_depth=30, bootstrap=True \n",
      "[CV]  n_estimators=60, min_samples_split=2, min_samples_leaf=4, max_depth=30, bootstrap=True, total=   0.1s\n",
      "[CV] n_estimators=60, min_samples_split=2, min_samples_leaf=4, max_depth=30, bootstrap=True \n",
      "[CV]  n_estimators=60, min_samples_split=2, min_samples_leaf=4, max_depth=30, bootstrap=True, total=   0.1s\n",
      "[CV] n_estimators=240, min_samples_split=10, min_samples_leaf=4, max_depth=10, bootstrap=False \n",
      "[CV]  n_estimators=240, min_samples_split=10, min_samples_leaf=4, max_depth=10, bootstrap=False, total=   0.2s\n",
      "[CV] n_estimators=240, min_samples_split=10, min_samples_leaf=4, max_depth=10, bootstrap=False \n",
      "[CV]  n_estimators=240, min_samples_split=10, min_samples_leaf=4, max_depth=10, bootstrap=False, total=   0.2s\n",
      "[CV] n_estimators=240, min_samples_split=10, min_samples_leaf=4, max_depth=10, bootstrap=False \n",
      "[CV]  n_estimators=240, min_samples_split=10, min_samples_leaf=4, max_depth=10, bootstrap=False, total=   0.2s\n",
      "[CV] n_estimators=60, min_samples_split=2, min_samples_leaf=2, max_depth=30, bootstrap=True \n",
      "[CV]  n_estimators=60, min_samples_split=2, min_samples_leaf=2, max_depth=30, bootstrap=True, total=   0.1s\n",
      "[CV] n_estimators=60, min_samples_split=2, min_samples_leaf=2, max_depth=30, bootstrap=True \n",
      "[CV]  n_estimators=60, min_samples_split=2, min_samples_leaf=2, max_depth=30, bootstrap=True, total=   0.1s\n",
      "[CV] n_estimators=60, min_samples_split=2, min_samples_leaf=2, max_depth=30, bootstrap=True \n",
      "[CV]  n_estimators=60, min_samples_split=2, min_samples_leaf=2, max_depth=30, bootstrap=True, total=   0.1s\n",
      "[CV] n_estimators=120, min_samples_split=2, min_samples_leaf=8, max_depth=80, bootstrap=False \n",
      "[CV]  n_estimators=120, min_samples_split=2, min_samples_leaf=8, max_depth=80, bootstrap=False, total=   0.1s\n",
      "[CV] n_estimators=120, min_samples_split=2, min_samples_leaf=8, max_depth=80, bootstrap=False \n",
      "[CV]  n_estimators=120, min_samples_split=2, min_samples_leaf=8, max_depth=80, bootstrap=False, total=   0.1s\n",
      "[CV] n_estimators=120, min_samples_split=2, min_samples_leaf=8, max_depth=80, bootstrap=False \n",
      "[CV]  n_estimators=120, min_samples_split=2, min_samples_leaf=8, max_depth=80, bootstrap=False, total=   0.1s\n",
      "[CV] n_estimators=120, min_samples_split=5, min_samples_leaf=8, max_depth=10, bootstrap=False \n",
      "[CV]  n_estimators=120, min_samples_split=5, min_samples_leaf=8, max_depth=10, bootstrap=False, total=   0.1s\n",
      "[CV] n_estimators=120, min_samples_split=5, min_samples_leaf=8, max_depth=10, bootstrap=False \n",
      "[CV]  n_estimators=120, min_samples_split=5, min_samples_leaf=8, max_depth=10, bootstrap=False, total=   0.1s\n",
      "[CV] n_estimators=120, min_samples_split=5, min_samples_leaf=8, max_depth=10, bootstrap=False \n",
      "[CV]  n_estimators=120, min_samples_split=5, min_samples_leaf=8, max_depth=10, bootstrap=False, total=   0.1s\n",
      "[CV] n_estimators=60, min_samples_split=10, min_samples_leaf=4, max_depth=70, bootstrap=True \n",
      "[CV]  n_estimators=60, min_samples_split=10, min_samples_leaf=4, max_depth=70, bootstrap=True, total=   0.1s\n",
      "[CV] n_estimators=60, min_samples_split=10, min_samples_leaf=4, max_depth=70, bootstrap=True \n",
      "[CV]  n_estimators=60, min_samples_split=10, min_samples_leaf=4, max_depth=70, bootstrap=True, total=   0.1s\n",
      "[CV] n_estimators=60, min_samples_split=10, min_samples_leaf=4, max_depth=70, bootstrap=True \n",
      "[CV]  n_estimators=60, min_samples_split=10, min_samples_leaf=4, max_depth=70, bootstrap=True, total=   0.1s\n",
      "[CV] n_estimators=120, min_samples_split=2, min_samples_leaf=2, max_depth=None, bootstrap=True \n",
      "[CV]  n_estimators=120, min_samples_split=2, min_samples_leaf=2, max_depth=None, bootstrap=True, total=   0.1s\n",
      "[CV] n_estimators=120, min_samples_split=2, min_samples_leaf=2, max_depth=None, bootstrap=True \n",
      "[CV]  n_estimators=120, min_samples_split=2, min_samples_leaf=2, max_depth=None, bootstrap=True, total=   0.1s\n",
      "[CV] n_estimators=120, min_samples_split=2, min_samples_leaf=2, max_depth=None, bootstrap=True \n",
      "[CV]  n_estimators=120, min_samples_split=2, min_samples_leaf=2, max_depth=None, bootstrap=True, total=   0.1s\n",
      "[CV] n_estimators=60, min_samples_split=5, min_samples_leaf=8, max_depth=70, bootstrap=False \n",
      "[CV]  n_estimators=60, min_samples_split=5, min_samples_leaf=8, max_depth=70, bootstrap=False, total=   0.1s\n",
      "[CV] n_estimators=60, min_samples_split=5, min_samples_leaf=8, max_depth=70, bootstrap=False \n",
      "[CV]  n_estimators=60, min_samples_split=5, min_samples_leaf=8, max_depth=70, bootstrap=False, total=   0.1s\n",
      "[CV] n_estimators=60, min_samples_split=5, min_samples_leaf=8, max_depth=70, bootstrap=False \n",
      "[CV]  n_estimators=60, min_samples_split=5, min_samples_leaf=8, max_depth=70, bootstrap=False, total=   0.0s\n",
      "[CV] n_estimators=120, min_samples_split=5, min_samples_leaf=2, max_depth=20, bootstrap=True \n"
     ]
    },
    {
     "name": "stdout",
     "output_type": "stream",
     "text": [
      "[CV]  n_estimators=120, min_samples_split=5, min_samples_leaf=2, max_depth=20, bootstrap=True, total=   0.1s\n",
      "[CV] n_estimators=120, min_samples_split=5, min_samples_leaf=2, max_depth=20, bootstrap=True \n",
      "[CV]  n_estimators=120, min_samples_split=5, min_samples_leaf=2, max_depth=20, bootstrap=True, total=   0.1s\n",
      "[CV] n_estimators=120, min_samples_split=5, min_samples_leaf=2, max_depth=20, bootstrap=True \n",
      "[CV]  n_estimators=120, min_samples_split=5, min_samples_leaf=2, max_depth=20, bootstrap=True, total=   0.1s\n",
      "[CV] n_estimators=120, min_samples_split=2, min_samples_leaf=2, max_depth=None, bootstrap=False \n",
      "[CV]  n_estimators=120, min_samples_split=2, min_samples_leaf=2, max_depth=None, bootstrap=False, total=   0.1s\n",
      "[CV] n_estimators=120, min_samples_split=2, min_samples_leaf=2, max_depth=None, bootstrap=False \n",
      "[CV]  n_estimators=120, min_samples_split=2, min_samples_leaf=2, max_depth=None, bootstrap=False, total=   0.1s\n",
      "[CV] n_estimators=120, min_samples_split=2, min_samples_leaf=2, max_depth=None, bootstrap=False \n",
      "[CV]  n_estimators=120, min_samples_split=2, min_samples_leaf=2, max_depth=None, bootstrap=False, total=   0.1s\n",
      "[CV] n_estimators=120, min_samples_split=2, min_samples_leaf=2, max_depth=30, bootstrap=True \n",
      "[CV]  n_estimators=120, min_samples_split=2, min_samples_leaf=2, max_depth=30, bootstrap=True, total=   0.1s\n",
      "[CV] n_estimators=120, min_samples_split=2, min_samples_leaf=2, max_depth=30, bootstrap=True \n",
      "[CV]  n_estimators=120, min_samples_split=2, min_samples_leaf=2, max_depth=30, bootstrap=True, total=   0.1s\n",
      "[CV] n_estimators=120, min_samples_split=2, min_samples_leaf=2, max_depth=30, bootstrap=True \n",
      "[CV]  n_estimators=120, min_samples_split=2, min_samples_leaf=2, max_depth=30, bootstrap=True, total=   0.1s\n",
      "[CV] n_estimators=60, min_samples_split=5, min_samples_leaf=4, max_depth=70, bootstrap=True \n",
      "[CV]  n_estimators=60, min_samples_split=5, min_samples_leaf=4, max_depth=70, bootstrap=True, total=   0.1s\n",
      "[CV] n_estimators=60, min_samples_split=5, min_samples_leaf=4, max_depth=70, bootstrap=True \n",
      "[CV]  n_estimators=60, min_samples_split=5, min_samples_leaf=4, max_depth=70, bootstrap=True, total=   0.1s\n",
      "[CV] n_estimators=60, min_samples_split=5, min_samples_leaf=4, max_depth=70, bootstrap=True \n",
      "[CV]  n_estimators=60, min_samples_split=5, min_samples_leaf=4, max_depth=70, bootstrap=True, total=   0.1s\n",
      "[CV] n_estimators=120, min_samples_split=2, min_samples_leaf=8, max_depth=60, bootstrap=False \n",
      "[CV]  n_estimators=120, min_samples_split=2, min_samples_leaf=8, max_depth=60, bootstrap=False, total=   0.1s\n",
      "[CV] n_estimators=120, min_samples_split=2, min_samples_leaf=8, max_depth=60, bootstrap=False \n",
      "[CV]  n_estimators=120, min_samples_split=2, min_samples_leaf=8, max_depth=60, bootstrap=False, total=   0.1s\n",
      "[CV] n_estimators=120, min_samples_split=2, min_samples_leaf=8, max_depth=60, bootstrap=False \n",
      "[CV]  n_estimators=120, min_samples_split=2, min_samples_leaf=8, max_depth=60, bootstrap=False, total=   0.1s\n",
      "[CV] n_estimators=240, min_samples_split=10, min_samples_leaf=2, max_depth=90, bootstrap=False \n",
      "[CV]  n_estimators=240, min_samples_split=10, min_samples_leaf=2, max_depth=90, bootstrap=False, total=   0.2s\n",
      "[CV] n_estimators=240, min_samples_split=10, min_samples_leaf=2, max_depth=90, bootstrap=False \n",
      "[CV]  n_estimators=240, min_samples_split=10, min_samples_leaf=2, max_depth=90, bootstrap=False, total=   0.2s\n",
      "[CV] n_estimators=240, min_samples_split=10, min_samples_leaf=2, max_depth=90, bootstrap=False \n",
      "[CV]  n_estimators=240, min_samples_split=10, min_samples_leaf=2, max_depth=90, bootstrap=False, total=   0.2s\n",
      "[CV] n_estimators=240, min_samples_split=2, min_samples_leaf=8, max_depth=80, bootstrap=True \n",
      "[CV]  n_estimators=240, min_samples_split=2, min_samples_leaf=8, max_depth=80, bootstrap=True, total=   0.3s\n",
      "[CV] n_estimators=240, min_samples_split=2, min_samples_leaf=8, max_depth=80, bootstrap=True \n",
      "[CV]  n_estimators=240, min_samples_split=2, min_samples_leaf=8, max_depth=80, bootstrap=True, total=   0.3s\n",
      "[CV] n_estimators=240, min_samples_split=2, min_samples_leaf=8, max_depth=80, bootstrap=True \n",
      "[CV]  n_estimators=240, min_samples_split=2, min_samples_leaf=8, max_depth=80, bootstrap=True, total=   0.2s\n",
      "[CV] n_estimators=240, min_samples_split=2, min_samples_leaf=2, max_depth=50, bootstrap=True \n",
      "[CV]  n_estimators=240, min_samples_split=2, min_samples_leaf=2, max_depth=50, bootstrap=True, total=   0.3s\n",
      "[CV] n_estimators=240, min_samples_split=2, min_samples_leaf=2, max_depth=50, bootstrap=True \n",
      "[CV]  n_estimators=240, min_samples_split=2, min_samples_leaf=2, max_depth=50, bootstrap=True, total=   0.3s\n",
      "[CV] n_estimators=240, min_samples_split=2, min_samples_leaf=2, max_depth=50, bootstrap=True \n",
      "[CV]  n_estimators=240, min_samples_split=2, min_samples_leaf=2, max_depth=50, bootstrap=True, total=   0.3s\n",
      "[CV] n_estimators=60, min_samples_split=10, min_samples_leaf=8, max_depth=20, bootstrap=False \n",
      "[CV]  n_estimators=60, min_samples_split=10, min_samples_leaf=8, max_depth=20, bootstrap=False, total=   0.0s\n",
      "[CV] n_estimators=60, min_samples_split=10, min_samples_leaf=8, max_depth=20, bootstrap=False \n",
      "[CV]  n_estimators=60, min_samples_split=10, min_samples_leaf=8, max_depth=20, bootstrap=False, total=   0.0s\n",
      "[CV] n_estimators=60, min_samples_split=10, min_samples_leaf=8, max_depth=20, bootstrap=False \n",
      "[CV]  n_estimators=60, min_samples_split=10, min_samples_leaf=8, max_depth=20, bootstrap=False, total=   0.0s\n",
      "[CV] n_estimators=60, min_samples_split=5, min_samples_leaf=8, max_depth=80, bootstrap=True \n",
      "[CV]  n_estimators=60, min_samples_split=5, min_samples_leaf=8, max_depth=80, bootstrap=True, total=   0.1s\n",
      "[CV] n_estimators=60, min_samples_split=5, min_samples_leaf=8, max_depth=80, bootstrap=True \n",
      "[CV]  n_estimators=60, min_samples_split=5, min_samples_leaf=8, max_depth=80, bootstrap=True, total=   0.1s\n",
      "[CV] n_estimators=60, min_samples_split=5, min_samples_leaf=8, max_depth=80, bootstrap=True \n",
      "[CV]  n_estimators=60, min_samples_split=5, min_samples_leaf=8, max_depth=80, bootstrap=True, total=   0.1s\n",
      "[CV] n_estimators=240, min_samples_split=5, min_samples_leaf=8, max_depth=60, bootstrap=True \n",
      "[CV]  n_estimators=240, min_samples_split=5, min_samples_leaf=8, max_depth=60, bootstrap=True, total=   0.2s\n",
      "[CV] n_estimators=240, min_samples_split=5, min_samples_leaf=8, max_depth=60, bootstrap=True \n",
      "[CV]  n_estimators=240, min_samples_split=5, min_samples_leaf=8, max_depth=60, bootstrap=True, total=   0.2s\n",
      "[CV] n_estimators=240, min_samples_split=5, min_samples_leaf=8, max_depth=60, bootstrap=True \n",
      "[CV]  n_estimators=240, min_samples_split=5, min_samples_leaf=8, max_depth=60, bootstrap=True, total=   0.2s\n",
      "[CV] n_estimators=60, min_samples_split=5, min_samples_leaf=2, max_depth=70, bootstrap=True \n",
      "[CV]  n_estimators=60, min_samples_split=5, min_samples_leaf=2, max_depth=70, bootstrap=True, total=   0.1s\n",
      "[CV] n_estimators=60, min_samples_split=5, min_samples_leaf=2, max_depth=70, bootstrap=True \n",
      "[CV]  n_estimators=60, min_samples_split=5, min_samples_leaf=2, max_depth=70, bootstrap=True, total=   0.1s\n",
      "[CV] n_estimators=60, min_samples_split=5, min_samples_leaf=2, max_depth=70, bootstrap=True \n",
      "[CV]  n_estimators=60, min_samples_split=5, min_samples_leaf=2, max_depth=70, bootstrap=True, total=   0.1s\n",
      "[CV] n_estimators=120, min_samples_split=2, min_samples_leaf=4, max_depth=20, bootstrap=False \n",
      "[CV]  n_estimators=120, min_samples_split=2, min_samples_leaf=4, max_depth=20, bootstrap=False, total=   0.1s\n",
      "[CV] n_estimators=120, min_samples_split=2, min_samples_leaf=4, max_depth=20, bootstrap=False \n",
      "[CV]  n_estimators=120, min_samples_split=2, min_samples_leaf=4, max_depth=20, bootstrap=False, total=   0.1s\n",
      "[CV] n_estimators=120, min_samples_split=2, min_samples_leaf=4, max_depth=20, bootstrap=False \n",
      "[CV]  n_estimators=120, min_samples_split=2, min_samples_leaf=4, max_depth=20, bootstrap=False, total=   0.1s\n",
      "[CV] n_estimators=60, min_samples_split=2, min_samples_leaf=4, max_depth=80, bootstrap=False \n",
      "[CV]  n_estimators=60, min_samples_split=2, min_samples_leaf=4, max_depth=80, bootstrap=False, total=   0.1s\n",
      "[CV] n_estimators=60, min_samples_split=2, min_samples_leaf=4, max_depth=80, bootstrap=False \n",
      "[CV]  n_estimators=60, min_samples_split=2, min_samples_leaf=4, max_depth=80, bootstrap=False, total=   0.1s\n",
      "[CV] n_estimators=60, min_samples_split=2, min_samples_leaf=4, max_depth=80, bootstrap=False \n",
      "[CV]  n_estimators=60, min_samples_split=2, min_samples_leaf=4, max_depth=80, bootstrap=False, total=   0.1s\n",
      "[CV] n_estimators=120, min_samples_split=5, min_samples_leaf=8, max_depth=30, bootstrap=True \n"
     ]
    },
    {
     "name": "stdout",
     "output_type": "stream",
     "text": [
      "[CV]  n_estimators=120, min_samples_split=5, min_samples_leaf=8, max_depth=30, bootstrap=True, total=   0.1s\n",
      "[CV] n_estimators=120, min_samples_split=5, min_samples_leaf=8, max_depth=30, bootstrap=True \n",
      "[CV]  n_estimators=120, min_samples_split=5, min_samples_leaf=8, max_depth=30, bootstrap=True, total=   0.1s\n",
      "[CV] n_estimators=120, min_samples_split=5, min_samples_leaf=8, max_depth=30, bootstrap=True \n",
      "[CV]  n_estimators=120, min_samples_split=5, min_samples_leaf=8, max_depth=30, bootstrap=True, total=   0.1s\n",
      "[CV] n_estimators=120, min_samples_split=10, min_samples_leaf=8, max_depth=100, bootstrap=False \n",
      "[CV]  n_estimators=120, min_samples_split=10, min_samples_leaf=8, max_depth=100, bootstrap=False, total=   0.1s\n",
      "[CV] n_estimators=120, min_samples_split=10, min_samples_leaf=8, max_depth=100, bootstrap=False \n",
      "[CV]  n_estimators=120, min_samples_split=10, min_samples_leaf=8, max_depth=100, bootstrap=False, total=   0.1s\n",
      "[CV] n_estimators=120, min_samples_split=10, min_samples_leaf=8, max_depth=100, bootstrap=False \n",
      "[CV]  n_estimators=120, min_samples_split=10, min_samples_leaf=8, max_depth=100, bootstrap=False, total=   0.1s\n",
      "[CV] n_estimators=240, min_samples_split=2, min_samples_leaf=2, max_depth=10, bootstrap=True \n",
      "[CV]  n_estimators=240, min_samples_split=2, min_samples_leaf=2, max_depth=10, bootstrap=True, total=   0.2s\n",
      "[CV] n_estimators=240, min_samples_split=2, min_samples_leaf=2, max_depth=10, bootstrap=True \n",
      "[CV]  n_estimators=240, min_samples_split=2, min_samples_leaf=2, max_depth=10, bootstrap=True, total=   0.3s\n",
      "[CV] n_estimators=240, min_samples_split=2, min_samples_leaf=2, max_depth=10, bootstrap=True \n",
      "[CV]  n_estimators=240, min_samples_split=2, min_samples_leaf=2, max_depth=10, bootstrap=True, total=   0.3s\n",
      "[CV] n_estimators=120, min_samples_split=5, min_samples_leaf=8, max_depth=110, bootstrap=False \n",
      "[CV]  n_estimators=120, min_samples_split=5, min_samples_leaf=8, max_depth=110, bootstrap=False, total=   0.1s\n",
      "[CV] n_estimators=120, min_samples_split=5, min_samples_leaf=8, max_depth=110, bootstrap=False \n",
      "[CV]  n_estimators=120, min_samples_split=5, min_samples_leaf=8, max_depth=110, bootstrap=False, total=   0.1s\n",
      "[CV] n_estimators=120, min_samples_split=5, min_samples_leaf=8, max_depth=110, bootstrap=False \n",
      "[CV]  n_estimators=120, min_samples_split=5, min_samples_leaf=8, max_depth=110, bootstrap=False, total=   0.1s\n",
      "[CV] n_estimators=120, min_samples_split=2, min_samples_leaf=2, max_depth=110, bootstrap=True \n",
      "[CV]  n_estimators=120, min_samples_split=2, min_samples_leaf=2, max_depth=110, bootstrap=True, total=   0.1s\n",
      "[CV] n_estimators=120, min_samples_split=2, min_samples_leaf=2, max_depth=110, bootstrap=True \n",
      "[CV]  n_estimators=120, min_samples_split=2, min_samples_leaf=2, max_depth=110, bootstrap=True, total=   0.1s\n",
      "[CV] n_estimators=120, min_samples_split=2, min_samples_leaf=2, max_depth=110, bootstrap=True \n",
      "[CV]  n_estimators=120, min_samples_split=2, min_samples_leaf=2, max_depth=110, bootstrap=True, total=   0.1s\n",
      "[CV] n_estimators=120, min_samples_split=5, min_samples_leaf=8, max_depth=110, bootstrap=True \n",
      "[CV]  n_estimators=120, min_samples_split=5, min_samples_leaf=8, max_depth=110, bootstrap=True, total=   0.1s\n",
      "[CV] n_estimators=120, min_samples_split=5, min_samples_leaf=8, max_depth=110, bootstrap=True \n",
      "[CV]  n_estimators=120, min_samples_split=5, min_samples_leaf=8, max_depth=110, bootstrap=True, total=   0.1s\n",
      "[CV] n_estimators=120, min_samples_split=5, min_samples_leaf=8, max_depth=110, bootstrap=True \n",
      "[CV]  n_estimators=120, min_samples_split=5, min_samples_leaf=8, max_depth=110, bootstrap=True, total=   0.1s\n",
      "[CV] n_estimators=240, min_samples_split=5, min_samples_leaf=2, max_depth=50, bootstrap=False \n",
      "[CV]  n_estimators=240, min_samples_split=5, min_samples_leaf=2, max_depth=50, bootstrap=False, total=   0.2s\n",
      "[CV] n_estimators=240, min_samples_split=5, min_samples_leaf=2, max_depth=50, bootstrap=False \n",
      "[CV]  n_estimators=240, min_samples_split=5, min_samples_leaf=2, max_depth=50, bootstrap=False, total=   0.2s\n",
      "[CV] n_estimators=240, min_samples_split=5, min_samples_leaf=2, max_depth=50, bootstrap=False \n",
      "[CV]  n_estimators=240, min_samples_split=5, min_samples_leaf=2, max_depth=50, bootstrap=False, total=   0.2s\n",
      "CPU times: user 19.1 s, sys: 319 ms, total: 19.4 s\n",
      "Wall time: 19.5 s\n"
     ]
    },
    {
     "name": "stderr",
     "output_type": "stream",
     "text": [
      "[Parallel(n_jobs=1)]: Done 150 out of 150 | elapsed:   19.4s finished\n"
     ]
    },
    {
     "data": {
      "text/plain": [
       "RandomizedSearchCV(cv=3, estimator=RandomForestRegressor(), n_iter=50,\n",
       "                   param_distributions={'bootstrap': [True, False],\n",
       "                                        'max_depth': [10, 20, 30, 40, 50, 60,\n",
       "                                                      70, 80, 90, 100, 110,\n",
       "                                                      None],\n",
       "                                        'min_samples_leaf': [2, 4, 8],\n",
       "                                        'min_samples_split': [2, 5, 10],\n",
       "                                        'n_estimators': [60, 120, 240]},\n",
       "                   random_state=42, scoring='neg_mean_absolute_error',\n",
       "                   verbose=2)"
      ]
     },
     "execution_count": 19,
     "metadata": {},
     "output_type": "execute_result"
    }
   ],
   "source": [
    "%time rf_random.fit(X_train, y_train)"
   ]
  },
  {
   "cell_type": "code",
   "execution_count": 20,
   "metadata": {},
   "outputs": [
    {
     "data": {
      "text/plain": [
       "{'n_estimators': 120,\n",
       " 'min_samples_split': 2,\n",
       " 'min_samples_leaf': 8,\n",
       " 'max_depth': 70,\n",
       " 'bootstrap': True}"
      ]
     },
     "execution_count": 20,
     "metadata": {},
     "output_type": "execute_result"
    }
   ],
   "source": [
    "rf_random.best_params_"
   ]
  },
  {
   "cell_type": "code",
   "execution_count": 21,
   "metadata": {},
   "outputs": [
    {
     "name": "stdout",
     "output_type": "stream",
     "text": [
      "CPU times: user 156 ms, sys: 5.75 ms, total: 162 ms\n",
      "Wall time: 163 ms\n",
      "Using RF_RS, MAE is 9.41\n",
      "Using RF_RS, RMSE is 14.78\n"
     ]
    }
   ],
   "source": [
    "best_estimator = rf_random.best_estimator_\n",
    "\n",
    "%time best_estimator.fit(X_train, y_train)\n",
    "\n",
    "y_pred_train = best_estimator.predict(X_train)\n",
    "y_pred_test = best_estimator.predict(X_test)\n",
    "\n",
    "\n",
    "mae_rf = np.mean(abs(y_pred_test - y_test))\n",
    "rmse_rf = np.sqrt(np.mean((y_pred_test - y_test) ** 2))\n",
    "print('Using RF_RS, MAE is %0.2f' % mae_svrg)  \n",
    "print('Using RF_RS, RMSE is %0.2f'% rmse_svrg)\n",
    "\n"
   ]
  },
  {
   "cell_type": "code",
   "execution_count": 22,
   "metadata": {},
   "outputs": [],
   "source": [
    "#gradient boosting\n",
    "\n",
    "gb = GradientBoostingRegressor(random_state=SEED, max_depth=1)\n",
    "\n",
    "params_grid = {\n",
    "    \"learning_rate\":np.arange(0.1, 0.5, 0.05),\n",
    "    \"n_estimators\":np.arange(40, 201, 20),\n",
    "    \"subsample\":np.arange(0.4, 1.01, 0.1),\n",
    "    \"min_samples_split\":np.arange(2, 10, 1),\n",
    "    \"min_samples_leaf\":np.arange(2, 10, 1)\n",
    "}\n",
    "\n"
   ]
  },
  {
   "cell_type": "code",
   "execution_count": 23,
   "metadata": {},
   "outputs": [],
   "source": [
    "gb_rs = RandomizedSearchCV(\n",
    "    estimator=gb,\n",
    "    param_distributions=params_grid,\n",
    "    n_iter=50,\n",
    "    cv=3,\n",
    "    scoring=\"neg_mean_absolute_error\",\n",
    "    verbose=1, \n",
    "    random_state=SEED\n",
    ")"
   ]
  },
  {
   "cell_type": "code",
   "execution_count": 24,
   "metadata": {},
   "outputs": [
    {
     "name": "stdout",
     "output_type": "stream",
     "text": [
      "Fitting 3 folds for each of 50 candidates, totalling 150 fits\n"
     ]
    },
    {
     "name": "stderr",
     "output_type": "stream",
     "text": [
      "[Parallel(n_jobs=1)]: Using backend SequentialBackend with 1 concurrent workers.\n",
      "[Parallel(n_jobs=1)]: Done 150 out of 150 | elapsed:    5.3s finished\n"
     ]
    },
    {
     "data": {
      "text/plain": [
       "RandomizedSearchCV(cv=3,\n",
       "                   estimator=GradientBoostingRegressor(max_depth=1,\n",
       "                                                       random_state=15),\n",
       "                   n_iter=50,\n",
       "                   param_distributions={'learning_rate': array([0.1 , 0.15, 0.2 , 0.25, 0.3 , 0.35, 0.4 , 0.45]),\n",
       "                                        'min_samples_leaf': array([2, 3, 4, 5, 6, 7, 8, 9]),\n",
       "                                        'min_samples_split': array([2, 3, 4, 5, 6, 7, 8, 9]),\n",
       "                                        'n_estimators': array([ 40,  60,  80, 100, 120, 140, 160, 180, 200]),\n",
       "                                        'subsample': array([0.4, 0.5, 0.6, 0.7, 0.8, 0.9, 1. ])},\n",
       "                   random_state=15, scoring='neg_mean_absolute_error',\n",
       "                   verbose=1)"
      ]
     },
     "execution_count": 24,
     "metadata": {},
     "output_type": "execute_result"
    }
   ],
   "source": [
    "gb_rs.fit(X_train, y_train)"
   ]
  },
  {
   "cell_type": "code",
   "execution_count": 25,
   "metadata": {},
   "outputs": [
    {
     "data": {
      "text/plain": [
       "{'subsample': 0.7,\n",
       " 'n_estimators': 40,\n",
       " 'min_samples_split': 5,\n",
       " 'min_samples_leaf': 6,\n",
       " 'learning_rate': 0.15000000000000002}"
      ]
     },
     "execution_count": 25,
     "metadata": {},
     "output_type": "execute_result"
    }
   ],
   "source": [
    "gb_rs.best_params_"
   ]
  },
  {
   "cell_type": "code",
   "execution_count": 26,
   "metadata": {},
   "outputs": [
    {
     "name": "stdout",
     "output_type": "stream",
     "text": [
      "CPU times: user 20.1 ms, sys: 2.77 ms, total: 22.9 ms\n",
      "Wall time: 20.8 ms\n",
      "Using GB_RS, MAE is 9.42\n",
      "Using GB_RS, RMSE is 14.11\n"
     ]
    }
   ],
   "source": [
    "best_estimator = gb_rs.best_estimator_\n",
    "\n",
    "%time best_estimator.fit(X_train, y_train)\n",
    "\n",
    "y_pred_train = best_estimator.predict(X_train)\n",
    "y_pred_test = best_estimator.predict(X_test)\n",
    "\n",
    "\n",
    "mae_gb = np.mean(abs(y_pred_test - y_test))\n",
    "rmse_gb = np.sqrt(np.mean((y_pred_test - y_test) ** 2))\n",
    "print('Using GB_RS, MAE is %0.2f' % mae_gb)  \n",
    "print('Using GB_RS, RMSE is %0.2f'% rmse_gb)"
   ]
  },
  {
   "cell_type": "code",
   "execution_count": null,
   "metadata": {},
   "outputs": [],
   "source": []
  }
 ],
 "metadata": {
  "kernelspec": {
   "display_name": "Python 3",
   "language": "python",
   "name": "python3"
  },
  "language_info": {
   "codemirror_mode": {
    "name": "ipython",
    "version": 3
   },
   "file_extension": ".py",
   "mimetype": "text/x-python",
   "name": "python",
   "nbconvert_exporter": "python",
   "pygments_lexer": "ipython3",
   "version": "3.8.3"
  }
 },
 "nbformat": 4,
 "nbformat_minor": 4
}
